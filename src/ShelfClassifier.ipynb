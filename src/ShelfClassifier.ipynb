{
 "cells": [
  {
   "cell_type": "markdown",
   "metadata": {},
   "source": [
    "## Building an image classification model using Keras To Classify"
   ]
  },
  {
   "cell_type": "code",
   "execution_count": 1,
   "metadata": {},
   "outputs": [
    {
     "name": "stdout",
     "output_type": "stream",
     "text": [
      "Using TensorFlow backend.\r\n"
     ]
    }
   ],
   "source": [
    "##This notebook is built around using tensorflow as the backend for keras\n",
    "!KERAS_BACKEND=tensorflow python -c \"from keras import backend\""
   ]
  },
  {
   "cell_type": "markdown",
   "metadata": {},
   "source": [
    "### Imports"
   ]
  },
  {
   "cell_type": "code",
   "execution_count": 3,
   "metadata": {
    "collapsed": true
   },
   "outputs": [],
   "source": [
    "import os\n",
    "import numpy as np\n",
    "from keras.models import Sequential\n",
    "from keras.layers import Activation, Dropout, Flatten, Dense\n",
    "from keras.preprocessing.image import ImageDataGenerator\n",
    "from keras.layers import Convolution2D, MaxPooling2D, ZeroPadding2D\n",
    "from keras import optimizers"
   ]
  },
  {
   "cell_type": "code",
   "execution_count": 4,
   "metadata": {
    "collapsed": true
   },
   "outputs": [],
   "source": [
    "img_width, img_height = 150, 150\n",
    "\n",
    "train_data_dir = 'data/train'\n",
    "validation_data_dir = 'data/validation'"
   ]
  },
  {
   "cell_type": "code",
   "execution_count": 5,
   "metadata": {},
   "outputs": [
    {
     "name": "stdout",
     "output_type": "stream",
     "text": [
      "Found 2050 images belonging to 2 classes.\n",
      "Found 832 images belonging to 2 classes.\n"
     ]
    }
   ],
   "source": [
    "# used to rescale the pixel values from [0, 255] to [0, 1] interval\n",
    "datagen = ImageDataGenerator(rescale=1./255)\n",
    "\n",
    "# automagically retrieve images and their classes for train and validation sets\n",
    "train_generator = datagen.flow_from_directory(\n",
    "        train_data_dir,\n",
    "        target_size=(img_width, img_height),\n",
    "        batch_size=16,\n",
    "        class_mode='binary')\n",
    "\n",
    "validation_generator = datagen.flow_from_directory(\n",
    "        validation_data_dir,\n",
    "        target_size=(img_width, img_height),\n",
    "        batch_size=32,\n",
    "        class_mode='binary')"
   ]
  },
  {
   "cell_type": "markdown",
   "metadata": {},
   "source": [
    "### Model architecture definition"
   ]
  },
  {
   "cell_type": "code",
   "execution_count": 6,
   "metadata": {},
   "outputs": [
    {
     "name": "stderr",
     "output_type": "stream",
     "text": [
      "/Users/surajus/.local/lib/python2.7/site-packages/ipykernel_launcher.py:2: UserWarning: Update your `Conv2D` call to the Keras 2 API: `Conv2D(32, (3, 3), input_shape=(150, 150,...)`\n",
      "  \n",
      "/Users/surajus/.local/lib/python2.7/site-packages/ipykernel_launcher.py:6: UserWarning: Update your `Conv2D` call to the Keras 2 API: `Conv2D(32, (3, 3))`\n",
      "  \n",
      "/Users/surajus/.local/lib/python2.7/site-packages/ipykernel_launcher.py:10: UserWarning: Update your `Conv2D` call to the Keras 2 API: `Conv2D(64, (3, 3))`\n",
      "  # Remove the CWD from sys.path while we load stuff.\n"
     ]
    }
   ],
   "source": [
    "model = Sequential()\n",
    "model.add(Convolution2D(32, 3, 3, input_shape=(img_width, img_height,3)))\n",
    "model.add(Activation('relu'))\n",
    "model.add(MaxPooling2D(pool_size=(2, 2)))\n",
    "\n",
    "model.add(Convolution2D(32, 3, 3))\n",
    "model.add(Activation('relu'))\n",
    "model.add(MaxPooling2D(pool_size=(2, 2)))\n",
    "\n",
    "model.add(Convolution2D(64, 3, 3))\n",
    "model.add(Activation('relu'))\n",
    "model.add(MaxPooling2D(pool_size=(2, 2)))\n",
    "\n",
    "model.add(Flatten())\n",
    "model.add(Dense(64))\n",
    "model.add(Activation('relu'))\n",
    "model.add(Dropout(0.5))\n",
    "model.add(Dense(1))\n",
    "model.add(Activation('sigmoid'))"
   ]
  },
  {
   "cell_type": "code",
   "execution_count": 7,
   "metadata": {
    "collapsed": true
   },
   "outputs": [],
   "source": [
    "model.compile(loss='binary_crossentropy',\n",
    "              optimizer='rmsprop',\n",
    "              metrics=['accuracy'])"
   ]
  },
  {
   "cell_type": "code",
   "execution_count": 8,
   "metadata": {
    "collapsed": true
   },
   "outputs": [],
   "source": [
    "nb_epoch = 30\n",
    "nb_train_samples = 2048\n",
    "nb_validation_samples = 832"
   ]
  },
  {
   "cell_type": "markdown",
   "metadata": {},
   "source": [
    "### Training"
   ]
  },
  {
   "cell_type": "code",
   "execution_count": 9,
   "metadata": {},
   "outputs": [
    {
     "name": "stderr",
     "output_type": "stream",
     "text": [
      "/Users/surajus/.local/lib/python2.7/site-packages/ipykernel_launcher.py:6: UserWarning: Update your `fit_generator` call to the Keras 2 API: `fit_generator(<keras.pre..., validation_data=<keras.pre..., steps_per_epoch=128, epochs=30, validation_steps=832)`\n",
      "  \n"
     ]
    },
    {
     "name": "stdout",
     "output_type": "stream",
     "text": [
      "Epoch 1/30\n",
      "128/128 [==============================] - 344s - loss: 0.6985 - acc: 0.5444 - val_loss: 0.6492 - val_acc: 0.6322\n",
      "Epoch 2/30\n",
      "128/128 [==============================] - 339s - loss: 0.6517 - acc: 0.6318 - val_loss: 0.6169 - val_acc: 0.6672\n",
      "Epoch 3/30\n",
      "128/128 [==============================] - 340s - loss: 0.6067 - acc: 0.6719 - val_loss: 0.6438 - val_acc: 0.6091\n",
      "Epoch 4/30\n",
      "128/128 [==============================] - 341s - loss: 0.5605 - acc: 0.7158 - val_loss: 0.6354 - val_acc: 0.6781\n",
      "Epoch 5/30\n",
      "128/128 [==============================] - 353s - loss: 0.5351 - acc: 0.7388 - val_loss: 0.5884 - val_acc: 0.7033\n",
      "Epoch 6/30\n",
      "128/128 [==============================] - 348s - loss: 0.4887 - acc: 0.7642 - val_loss: 0.6947 - val_acc: 0.6479\n",
      "Epoch 7/30\n",
      "128/128 [==============================] - 344s - loss: 0.4408 - acc: 0.8042 - val_loss: 0.5767 - val_acc: 0.7402\n",
      "Epoch 8/30\n",
      "128/128 [==============================] - 343s - loss: 0.4045 - acc: 0.8198 - val_loss: 0.6359 - val_acc: 0.7344\n",
      "Epoch 9/30\n",
      "128/128 [==============================] - 345s - loss: 0.3725 - acc: 0.8374 - val_loss: 0.7309 - val_acc: 0.7272\n",
      "Epoch 10/30\n",
      "128/128 [==============================] - 350s - loss: 0.3249 - acc: 0.8599 - val_loss: 1.0851 - val_acc: 0.6513\n",
      "Epoch 11/30\n",
      "128/128 [==============================] - 344s - loss: 0.2800 - acc: 0.8813 - val_loss: 0.8214 - val_acc: 0.7193\n",
      "Epoch 12/30\n",
      "128/128 [==============================] - 355s - loss: 0.2857 - acc: 0.8877 - val_loss: 0.7955 - val_acc: 0.7311\n",
      "Epoch 13/30\n",
      "128/128 [==============================] - 350s - loss: 0.2221 - acc: 0.9067 - val_loss: 0.9302 - val_acc: 0.6884\n",
      "Epoch 14/30\n",
      "128/128 [==============================] - 342s - loss: 0.2083 - acc: 0.9194 - val_loss: 1.1387 - val_acc: 0.7186\n",
      "Epoch 15/30\n",
      "128/128 [==============================] - 346s - loss: 0.1805 - acc: 0.9292 - val_loss: 1.1925 - val_acc: 0.7346\n",
      "Epoch 16/30\n",
      "128/128 [==============================] - 344s - loss: 0.1883 - acc: 0.9302 - val_loss: 1.0440 - val_acc: 0.7322\n",
      "Epoch 17/30\n",
      "128/128 [==============================] - 345s - loss: 0.1663 - acc: 0.9365 - val_loss: 1.2963 - val_acc: 0.7313\n",
      "Epoch 18/30\n",
      "128/128 [==============================] - 348s - loss: 0.1580 - acc: 0.9414 - val_loss: 1.1744 - val_acc: 0.7035\n",
      "Epoch 19/30\n",
      "128/128 [==============================] - 347s - loss: 0.1703 - acc: 0.9376 - val_loss: 1.2282 - val_acc: 0.7160\n",
      "Epoch 20/30\n",
      "128/128 [==============================] - 343s - loss: 0.1140 - acc: 0.9541 - val_loss: 1.2142 - val_acc: 0.7166\n",
      "Epoch 21/30\n",
      "128/128 [==============================] - 345s - loss: 0.1138 - acc: 0.9551 - val_loss: 1.6248 - val_acc: 0.7273\n",
      "Epoch 22/30\n",
      "128/128 [==============================] - 348s - loss: 0.1343 - acc: 0.9556 - val_loss: 0.9642 - val_acc: 0.7190\n",
      "Epoch 23/30\n",
      "128/128 [==============================] - 346s - loss: 0.1211 - acc: 0.9570 - val_loss: 1.8346 - val_acc: 0.7216\n",
      "Epoch 24/30\n",
      "128/128 [==============================] - 347s - loss: 0.1024 - acc: 0.9585 - val_loss: 1.8074 - val_acc: 0.6915\n",
      "Epoch 25/30\n",
      "128/128 [==============================] - 346s - loss: 0.1137 - acc: 0.9629 - val_loss: 2.5072 - val_acc: 0.7008\n",
      "Epoch 26/30\n",
      "128/128 [==============================] - 341s - loss: 0.1198 - acc: 0.9580 - val_loss: 1.6910 - val_acc: 0.7101\n",
      "Epoch 27/30\n",
      "128/128 [==============================] - 344s - loss: 0.0932 - acc: 0.9736 - val_loss: 1.7201 - val_acc: 0.7115\n",
      "Epoch 28/30\n",
      "128/128 [==============================] - 348s - loss: 0.1375 - acc: 0.9551 - val_loss: 1.9707 - val_acc: 0.7030\n",
      "Epoch 29/30\n",
      "128/128 [==============================] - 348s - loss: 0.1428 - acc: 0.9590 - val_loss: 2.6685 - val_acc: 0.7055\n",
      "Epoch 30/30\n",
      "128/128 [==============================] - 345s - loss: 0.1486 - acc: 0.9551 - val_loss: 2.5876 - val_acc: 0.6933\n"
     ]
    },
    {
     "data": {
      "text/plain": [
       "<keras.callbacks.History at 0x112566a90>"
      ]
     },
     "execution_count": 9,
     "metadata": {},
     "output_type": "execute_result"
    }
   ],
   "source": [
    "model.fit_generator(\n",
    "        train_generator,\n",
    "        samples_per_epoch=nb_train_samples,\n",
    "        nb_epoch=nb_epoch,\n",
    "        validation_data=validation_generator,\n",
    "        nb_val_samples=nb_validation_samples)"
   ]
  },
  {
   "cell_type": "code",
   "execution_count": 1,
   "metadata": {},
   "outputs": [
    {
     "ename": "NameError",
     "evalue": "name 'model' is not defined",
     "output_type": "error",
     "traceback": [
      "\u001b[0;31m---------------------------------------------------------------------------\u001b[0m",
      "\u001b[0;31mNameError\u001b[0m                                 Traceback (most recent call last)",
      "\u001b[0;32m<ipython-input-1-1c55f213631a>\u001b[0m in \u001b[0;36m<module>\u001b[0;34m()\u001b[0m\n\u001b[0;32m----> 1\u001b[0;31m \u001b[0mmodel\u001b[0m\u001b[0;34m.\u001b[0m\u001b[0msave_weights\u001b[0m\u001b[0;34m(\u001b[0m\u001b[0;34m'models/trained_model_30_epochs.h5'\u001b[0m\u001b[0;34m)\u001b[0m\u001b[0;34m\u001b[0m\u001b[0m\n\u001b[0m",
      "\u001b[0;31mNameError\u001b[0m: name 'model' is not defined"
     ]
    }
   ],
   "source": [
    "model.save_weights('models/trained_model_30_epochs.h5')"
   ]
  },
  {
   "cell_type": "code",
   "execution_count": null,
   "metadata": {
    "collapsed": true
   },
   "outputs": [],
   "source": [
    "#model.load_weights('models_trained/cats_and_dogs_30_epochs.h5')"
   ]
  }
 ],
 "metadata": {
  "kernelspec": {
   "display_name": "Python 2",
   "language": "python",
   "name": "python2"
  },
  "language_info": {
   "codemirror_mode": {
    "name": "ipython",
    "version": 2
   },
   "file_extension": ".py",
   "mimetype": "text/x-python",
   "name": "python",
   "nbconvert_exporter": "python",
   "pygments_lexer": "ipython2",
   "version": "2.7.13"
  }
 },
 "nbformat": 4,
 "nbformat_minor": 2
}
