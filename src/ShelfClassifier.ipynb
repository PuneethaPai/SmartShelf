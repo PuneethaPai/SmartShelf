{
 "cells": [
  {
   "cell_type": "markdown",
   "metadata": {},
   "source": [
    "## Building an image classification model using Keras To Classify"
   ]
  },
  {
   "cell_type": "code",
   "execution_count": 1,
   "metadata": {},
   "outputs": [
    {
     "name": "stdout",
     "output_type": "stream",
     "text": [
      "Using TensorFlow backend.\r\n"
     ]
    }
   ],
   "source": [
    "##This notebook is built around using tensorflow as the backend for keras\n",
    "!KERAS_BACKEND=tensorflow python -c \"from keras import backend\""
   ]
  },
  {
   "cell_type": "markdown",
   "metadata": {},
   "source": [
    "### Imports"
   ]
  },
  {
   "cell_type": "code",
   "execution_count": 2,
   "metadata": {},
   "outputs": [
    {
     "name": "stderr",
     "output_type": "stream",
     "text": [
      "Using Theano backend.\n"
     ]
    }
   ],
   "source": [
    "import os\n",
    "import numpy as np\n",
    "from keras.models import Sequential\n",
    "from keras.layers import Activation, Dropout, Flatten, Dense\n",
    "from keras.preprocessing.image import ImageDataGenerator\n",
    "from keras.layers import Convolution2D, MaxPooling2D, ZeroPadding2D\n",
    "from keras import optimizers"
   ]
  },
  {
   "cell_type": "code",
   "execution_count": 7,
   "metadata": {
    "collapsed": true
   },
   "outputs": [],
   "source": [
    "img_width, img_height = 64, 32\n",
    "\n",
    "train_data_dir = '../data/train'\n",
    "validation_data_dir = '../data/validation'\n",
    "test_data_dir='../data/test'"
   ]
  },
  {
   "cell_type": "code",
   "execution_count": 49,
   "metadata": {},
   "outputs": [
    {
     "name": "stdout",
     "output_type": "stream",
     "text": [
      "Found 8599 images belonging to 2 classes.\n",
      "Found 1843 images belonging to 2 classes.\n",
      "Found 1844 images belonging to 2 classes.\n"
     ]
    }
   ],
   "source": [
    "# used to rescale the pixel values from [0, 255] to [0, 1] interval\n",
    "datagen = ImageDataGenerator(rescale=1./255)\n",
    "\n",
    "# automagically retrieve images and their classes for train and validation sets\n",
    "train_generator = datagen.flow_from_directory(\n",
    "        train_data_dir,\n",
    "        target_size=(img_width, img_height),\n",
    "        batch_size=16,\n",
    "        class_mode='binary')\n",
    "\n",
    "validation_generator = datagen.flow_from_directory(\n",
    "        validation_data_dir,\n",
    "        target_size=(img_width, img_height),\n",
    "        batch_size=32,\n",
    "        class_mode='binary')\n",
    "\n",
    "test_generator = datagen.flow_from_directory(\n",
    "        test_data_dir,\n",
    "        target_size=(img_width, img_height),\n",
    "        batch_size=32,\n",
    "        class_mode='binary')"
   ]
  },
  {
   "cell_type": "markdown",
   "metadata": {},
   "source": [
    "### Model architecture definition"
   ]
  },
  {
   "cell_type": "code",
   "execution_count": 9,
   "metadata": {},
   "outputs": [
    {
     "name": "stderr",
     "output_type": "stream",
     "text": [
      "/Users/surajus/.local/lib/python2.7/site-packages/ipykernel_launcher.py:2: UserWarning: Update your `Conv2D` call to the Keras 2 API: `Conv2D(32, (3, 3), input_shape=(64, 32, 3...)`\n",
      "  \n",
      "/Users/surajus/.local/lib/python2.7/site-packages/ipykernel_launcher.py:6: UserWarning: Update your `Conv2D` call to the Keras 2 API: `Conv2D(32, (3, 3))`\n",
      "  \n",
      "/Users/surajus/.local/lib/python2.7/site-packages/ipykernel_launcher.py:10: UserWarning: Update your `Conv2D` call to the Keras 2 API: `Conv2D(64, (3, 3))`\n",
      "  # Remove the CWD from sys.path while we load stuff.\n"
     ]
    }
   ],
   "source": [
    "model = Sequential()\n",
    "model.add(Convolution2D(32, 3, 3, input_shape=(img_width, img_height,3)))\n",
    "model.add(Activation('relu'))\n",
    "model.add(MaxPooling2D(pool_size=(2, 2)))\n",
    "\n",
    "model.add(Convolution2D(32, 3, 3))\n",
    "model.add(Activation('relu'))\n",
    "model.add(MaxPooling2D(pool_size=(2, 2)))\n",
    "\n",
    "model.add(Convolution2D(64, 3, 3))\n",
    "model.add(Activation('relu'))\n",
    "model.add(MaxPooling2D(pool_size=(2, 2)))\n",
    "\n",
    "model.add(Flatten())\n",
    "model.add(Dense(64))\n",
    "model.add(Activation('relu'))\n",
    "model.add(Dropout(0.5))\n",
    "model.add(Dense(1))\n",
    "model.add(Activation('sigmoid'))"
   ]
  },
  {
   "cell_type": "code",
   "execution_count": 10,
   "metadata": {
    "collapsed": true
   },
   "outputs": [],
   "source": [
    "model.compile(loss='binary_crossentropy',\n",
    "              optimizer='rmsprop',\n",
    "              metrics=['accuracy'])"
   ]
  },
  {
   "cell_type": "code",
   "execution_count": 11,
   "metadata": {
    "collapsed": true
   },
   "outputs": [],
   "source": [
    "nb_epoch = 30\n",
    "nb_train_samples = 2048\n",
    "nb_validation_samples = 832"
   ]
  },
  {
   "cell_type": "markdown",
   "metadata": {},
   "source": [
    "### Training"
   ]
  },
  {
   "cell_type": "code",
   "execution_count": 12,
   "metadata": {},
   "outputs": [
    {
     "name": "stderr",
     "output_type": "stream",
     "text": [
      "/Users/surajus/.local/lib/python2.7/site-packages/ipykernel_launcher.py:6: UserWarning: Update your `fit_generator` call to the Keras 2 API: `fit_generator(<keras.pre..., validation_data=<keras.pre..., steps_per_epoch=64, epochs=30, validation_steps=832)`\n",
      "  \n"
     ]
    },
    {
     "name": "stdout",
     "output_type": "stream",
     "text": [
      "Epoch 1/30\n",
      "64/64 [==============================] - 33s - loss: 0.1896 - acc: 0.9199 - val_loss: 0.0024 - val_acc: 1.0000\n",
      "Epoch 2/30\n",
      "64/64 [==============================] - 33s - loss: 0.0682 - acc: 0.9863 - val_loss: 6.3870e-04 - val_acc: 1.0000\n",
      "Epoch 3/30\n",
      "64/64 [==============================] - 33s - loss: 0.0232 - acc: 0.9937 - val_loss: 5.5116e-05 - val_acc: 1.0000\n",
      "Epoch 4/30\n",
      "64/64 [==============================] - 32s - loss: 0.0488 - acc: 0.9907 - val_loss: 3.5008e-05 - val_acc: 1.0000\n",
      "Epoch 5/30\n",
      "64/64 [==============================] - 32s - loss: 8.1912e-04 - acc: 1.0000 - val_loss: 1.2011e-06 - val_acc: 1.0000\n",
      "Epoch 6/30\n",
      "64/64 [==============================] - 33s - loss: 0.1967 - acc: 0.9875 - val_loss: 1.1344e-07 - val_acc: 1.0000\n",
      "Epoch 7/30\n",
      "64/64 [==============================] - 32s - loss: 0.4594 - acc: 0.9712 - val_loss: 6.7485 - val_acc: 0.5767\n",
      "Epoch 8/30\n",
      "64/64 [==============================] - 33s - loss: 2.5855 - acc: 0.8369 - val_loss: 1.1106e-07 - val_acc: 1.0000\n",
      "Epoch 9/30\n",
      "64/64 [==============================] - 32s - loss: 9.0310e-05 - acc: 1.0000 - val_loss: 1.1210e-07 - val_acc: 1.0000\n",
      "Epoch 10/30\n",
      "64/64 [==============================] - 32s - loss: 0.0456 - acc: 0.9937 - val_loss: 0.1440 - val_acc: 0.9609\n",
      "Epoch 11/30\n",
      "64/64 [==============================] - 32s - loss: 0.0018 - acc: 0.9990 - val_loss: 1.1107e-07 - val_acc: 1.0000\n",
      "Epoch 12/30\n",
      "64/64 [==============================] - 32s - loss: 3.8409e-05 - acc: 1.0000 - val_loss: 1.1108e-07 - val_acc: 1.0000\n",
      "Epoch 13/30\n",
      "64/64 [==============================] - 32s - loss: 0.0146 - acc: 0.9971 - val_loss: 0.0023 - val_acc: 0.9989\n",
      "Epoch 14/30\n",
      "64/64 [==============================] - 32s - loss: 0.0026 - acc: 0.9995 - val_loss: 1.1106e-07 - val_acc: 1.0000\n",
      "Epoch 15/30\n",
      "64/64 [==============================] - 32s - loss: 6.5007e-05 - acc: 1.0000 - val_loss: 1.1107e-07 - val_acc: 1.0000\n",
      "Epoch 16/30\n",
      "64/64 [==============================] - 32s - loss: 3.4189e-06 - acc: 1.0000 - val_loss: 1.1106e-07 - val_acc: 1.0000\n",
      "Epoch 17/30\n",
      "64/64 [==============================] - 32s - loss: 0.0225 - acc: 0.9976 - val_loss: 1.1107e-07 - val_acc: 1.0000\n",
      "Epoch 18/30\n",
      "64/64 [==============================] - 32s - loss: 1.4879e-07 - acc: 1.0000 - val_loss: 1.1105e-07 - val_acc: 1.0000\n",
      "Epoch 19/30\n",
      "64/64 [==============================] - 32s - loss: 1.4632e-07 - acc: 1.0000 - val_loss: 1.1107e-07 - val_acc: 1.0000\n",
      "Epoch 20/30\n",
      "64/64 [==============================] - 41s - loss: 1.7138e-07 - acc: 1.0000 - val_loss: 1.1107e-07 - val_acc: 1.0000\n",
      "Epoch 21/30\n",
      "64/64 [==============================] - 51s - loss: 1.8585 - acc: 0.8834 - val_loss: 6.7581 - val_acc: 0.5761\n",
      "Epoch 22/30\n",
      "64/64 [==============================] - 67s - loss: 1.7887 - acc: 0.8877 - val_loss: 1.1107e-07 - val_acc: 1.0000\n",
      "Epoch 23/30\n",
      "64/64 [==============================] - 68s - loss: 2.7184e-07 - acc: 1.0000 - val_loss: 1.1106e-07 - val_acc: 1.0000\n",
      "Epoch 24/30\n",
      "64/64 [==============================] - 66s - loss: 0.3030 - acc: 0.9805 - val_loss: 1.1109e-07 - val_acc: 1.0000\n",
      "Epoch 25/30\n",
      "64/64 [==============================] - 67s - loss: 5.6262e-07 - acc: 1.0000 - val_loss: 1.1106e-07 - val_acc: 1.0000\n",
      "Epoch 26/30\n",
      "64/64 [==============================] - 65s - loss: 3.9240 - acc: 0.7539 - val_loss: 6.7443 - val_acc: 0.5770\n",
      "Epoch 27/30\n",
      "64/64 [==============================] - 64s - loss: 0.1225 - acc: 0.9922 - val_loss: 1.1105e-07 - val_acc: 1.0000\n",
      "Epoch 28/30\n",
      "64/64 [==============================] - 45s - loss: 3.1321e-04 - acc: 1.0000 - val_loss: 1.1108e-07 - val_acc: 1.0000\n",
      "Epoch 29/30\n",
      "64/64 [==============================] - 32s - loss: 1.1455e-07 - acc: 1.0000 - val_loss: 1.1105e-07 - val_acc: 1.0000\n",
      "Epoch 30/30\n",
      "64/64 [==============================] - 32s - loss: 0.0623 - acc: 0.9932 - val_loss: 1.1109e-07 - val_acc: 1.0000\n"
     ]
    },
    {
     "data": {
      "text/plain": [
       "<keras.callbacks.History at 0x10d076bd0>"
      ]
     },
     "execution_count": 12,
     "metadata": {},
     "output_type": "execute_result"
    }
   ],
   "source": [
    "model.fit_generator(\n",
    "        train_generator,\n",
    "        samples_per_epoch=nb_train_samples,\n",
    "        nb_epoch=nb_epoch,\n",
    "        validation_data=validation_generator,\n",
    "        nb_val_samples=nb_validation_samples)"
   ]
  },
  {
   "cell_type": "code",
   "execution_count": 13,
   "metadata": {},
   "outputs": [
    {
     "name": "stdout",
     "output_type": "stream",
     "text": [
      "Saved model to disk\n"
     ]
    }
   ],
   "source": [
    "model_json = model.to_json()\n",
    "with open(\"model/model.json\", \"w\") as json_file:\n",
    "    json_file.write(model_json)\n",
    "# serialize weights to HDF5\n",
    "model.save_weights(\"model/model.h5\")\n",
    "print(\"Saved model to disk\")"
   ]
  },
  {
   "cell_type": "code",
   "execution_count": 23,
   "metadata": {},
   "outputs": [],
   "source": [
    "from keras.applications import imagenet_utils\n",
    "from keras.applications.inception_v3 import preprocess_input\n",
    "from keras.preprocessing.image import img_to_array\n",
    "from keras.preprocessing.image import load_img\n",
    "model.predict_generator"
   ]
  },
  {
   "cell_type": "code",
   "execution_count": 30,
   "metadata": {},
   "outputs": [],
   "source": [
    "preprocess = imagenet_utils.preprocess_input\n",
    "image = load_img(\"../test_empty.jpg\", target_size=(64,32))\n",
    "image = img_to_array(image)\n",
    "image = np.expand_dims(image, axis=0)\n",
    "image = preprocess(image)"
   ]
  },
  {
   "cell_type": "code",
   "execution_count": 31,
   "metadata": {},
   "outputs": [],
   "source": [
    "preds = model.predict(image)"
   ]
  },
  {
   "cell_type": "code",
   "execution_count": 32,
   "metadata": {},
   "outputs": [
    {
     "name": "stdout",
     "output_type": "stream",
     "text": [
      "[[ 1.]]\n"
     ]
    }
   ],
   "source": [
    "print preds"
   ]
  },
  {
   "cell_type": "code",
   "execution_count": 45,
   "metadata": {},
   "outputs": [],
   "source": [
    "preprocess = imagenet_utils.preprocess_input\n",
    "image1 = load_img(\"../test_empty.jpg\", target_size=(64,32))\n",
    "image2 = load_img(\"../test_full.jpg\", target_size=(64,32))\n",
    "image1 = img_to_array(image1)\n",
    "image2 = img_to_array(image2)\n",
    "predict_generator = datagen.flow(np.asarray([image1,image2]))"
   ]
  },
  {
   "cell_type": "code",
   "execution_count": 51,
   "metadata": {},
   "outputs": [
    {
     "data": {
      "text/plain": [
       "array([[ 1.],\n",
       "       [ 1.],\n",
       "       [ 1.],\n",
       "       [ 1.]], dtype=float32)"
      ]
     },
     "execution_count": 51,
     "metadata": {},
     "output_type": "execute_result"
    }
   ],
   "source": [
    "model.predict_generator(predict_generator,2)"
   ]
  },
  {
   "cell_type": "code",
   "execution_count": 50,
   "metadata": {},
   "outputs": [
    {
     "data": {
      "text/plain": [
       "[1.1107657406760619e-07, 1.0]"
      ]
     },
     "execution_count": 50,
     "metadata": {},
     "output_type": "execute_result"
    }
   ],
   "source": [
    "model.evaluate_generator(test_generator,1844)"
   ]
  },
  {
   "cell_type": "code",
   "execution_count": null,
   "metadata": {
    "collapsed": true
   },
   "outputs": [],
   "source": []
  }
 ],
 "metadata": {
  "kernelspec": {
   "display_name": "Python 2",
   "language": "python",
   "name": "python2"
  },
  "language_info": {
   "codemirror_mode": {
    "name": "ipython",
    "version": 2
   },
   "file_extension": ".py",
   "mimetype": "text/x-python",
   "name": "python",
   "nbconvert_exporter": "python",
   "pygments_lexer": "ipython2",
   "version": "2.7.13"
  }
 },
 "nbformat": 4,
 "nbformat_minor": 1
}
